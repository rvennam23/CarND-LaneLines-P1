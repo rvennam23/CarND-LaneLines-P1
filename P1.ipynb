{
 "cells": [
  {
   "cell_type": "markdown",
   "metadata": {},
   "source": [
    "# Self-Driving Car Engineer Nanodegree\n",
    "\n",
    "\n",
    "## Project1: **Finding Lane Lines on the Road** \n"
   ]
  },
  {
   "cell_type": "markdown",
   "metadata": {},
   "source": [
    "## Import Packages"
   ]
  },
  {
   "cell_type": "code",
   "execution_count": null,
   "metadata": {
    "collapsed": true
   },
   "outputs": [],
   "source": [
    "#importing some useful packages\n",
    "import matplotlib.pyplot as plt\n",
    "import matplotlib.image as mpimg\n",
    "import numpy as np\n",
    "import cv2\n",
    "import os\n",
    "%matplotlib inline"
   ]
  },
  {
   "cell_type": "markdown",
   "metadata": {},
   "source": [
    "## Helper Functions"
   ]
  },
  {
   "cell_type": "markdown",
   "metadata": {},
   "source": [
    "Below helper functions would be used in our lane detection program."
   ]
  },
  {
   "cell_type": "code",
   "execution_count": null,
   "metadata": {
    "collapsed": true
   },
   "outputs": [],
   "source": [
    "import math\n",
    "\n",
    "def grayscale(img):\n",
    "    \"\"\"Applies the Grayscale transform\n",
    "    This will return an image with only one color channel\n",
    "    but NOTE: to see the returned image as grayscale\n",
    "    (assuming your grayscaled image is called 'gray')\n",
    "    you should call plt.imshow(gray, cmap='gray')\"\"\"\n",
    "    return cv2.cvtColor(img, cv2.COLOR_RGB2GRAY)\n",
    "    # Or use BGR2GRAY if you read an image with cv2.imread()\n",
    "    # return cv2.cvtColor(img, cv2.COLOR_BGR2GRAY)\n",
    "    \n",
    "def canny(img, low_threshold, high_threshold):\n",
    "    \"\"\"Applies the Canny transform\"\"\"\n",
    "    return cv2.Canny(img, low_threshold, high_threshold)\n",
    "\n",
    "def gaussian_blur(img, kernel_size):\n",
    "    \"\"\"Applies a Gaussian Noise kernel\"\"\"\n",
    "    return cv2.GaussianBlur(img, (kernel_size, kernel_size), 0)\n",
    "\n",
    "def region_of_interest(img, vertices):\n",
    "    \"\"\"\n",
    "    Applies an image mask.\n",
    "    \n",
    "    Only keeps the region of the image defined by the polygon\n",
    "    formed from `vertices`. The rest of the image is set to black.\n",
    "    \"\"\"\n",
    "    #defining a blank mask to start with\n",
    "    mask = np.zeros_like(img)   \n",
    "    \n",
    "    #defining a 3 channel or 1 channel color to fill the mask with depending on the input image\n",
    "    if len(img.shape) > 2:\n",
    "        channel_count = img.shape[2]  # i.e. 3 or 4 depending on your image\n",
    "        ignore_mask_color = (255,) * channel_count\n",
    "    else:\n",
    "        ignore_mask_color = 255\n",
    "        \n",
    "    #filling pixels inside the polygon defined by \"vertices\" with the fill color    \n",
    "    cv2.fillPoly(mask, vertices, ignore_mask_color)\n",
    "    \n",
    "    #returning the image only where mask pixels are nonzero\n",
    "    masked_image = cv2.bitwise_and(img, mask)\n",
    "    return masked_image\n",
    "\n",
    "\n",
    "\n",
    "def hough_lines(img, rho, theta, threshold, min_line_len, max_line_gap):\n",
    "    \"\"\"\n",
    "    `img` should be the output of a Canny transform.\n",
    "        \n",
    "    Returns an image with hough lines drawn.\n",
    "    \"\"\"\n",
    "    lines = cv2.HoughLinesP(img, rho, theta, threshold, np.array([]), minLineLength=min_line_len, maxLineGap=max_line_gap)\n",
    "    line_img = np.zeros((img.shape[0], img.shape[1], 3), dtype=np.uint8)\n",
    "    draw_lines(line_img, lines)\n",
    "    return line_img\n",
    "\n",
    "# Python 3 has support for cool math symbols.\n",
    "def weighted_img(img, initial_img, α=0.8, β=1., λ=0.):\n",
    "    \"\"\"\n",
    "    `img` is the output of the hough_lines(), An image with lines drawn on it.\n",
    "    Should be a blank image (all black) with lines drawn on it.\n",
    "    \n",
    "    `initial_img` should be the image before any processing.\n",
    "    \n",
    "    The result image is computed as follows:\n",
    "    \n",
    "    initial_img * α + img * β + λ\n",
    "    NOTE: initial_img and img must be the same shape!\n",
    "    \"\"\"\n",
    "    return cv2.addWeighted(initial_img, α, img, β, λ)\n",
    "\n",
    "\n",
    "def draw_lines(img, lines, color=[255, 0, 0], thickness=2):\n",
    "    \"\"\"\n",
    "    NOTE: this is the function you might want to use as a starting point once you want to \n",
    "    average/extrapolate the line segments you detect to map out the full\n",
    "    extent of the lane (going from the result shown in raw-lines-example.mp4\n",
    "    to that shown in P1_example.mp4).  \n",
    "    \n",
    "    Think about things like separating line segments by their \n",
    "    slope ((y2-y1)/(x2-x1)) to decide which segments are part of the left\n",
    "    line vs. the right line.  Then, you can average the position of each of \n",
    "    the lines and extrapolate to the top and bottom of the lane.\n",
    "    \n",
    "    This function draws `lines` with `color` and `thickness`.    \n",
    "    Lines are drawn on the image inplace (mutates the image).\n",
    "    If you want to make the lines semi-transparent, think about combining\n",
    "    this function with the weighted_img() function below\n",
    "    \"\"\"\n",
    "    for line in lines:\n",
    "        for x1,y1,x2,y2 in line:\n",
    "            cv2.line(img, (x1, y1), (x2, y2), color, thickness)\n",
    "            \n",
    "            \n",
    "\n",
    "def calculate_wavg_slope_intercept(lines):\n",
    "    \n",
    "    \"\"\" This function computes the slope and intercept of all the lines generated by Hough Transform.slope is \n",
    "    computed using the formula((y2-y1)/(x2-x1)). Since X=0,Y=0 coordinate is at the top left corner,\n",
    "    all left lines will have negative slope and all right lines will have positive slopes.\n",
    "    intercept is calculated using the formula y2-slope*x2.\n",
    "    \n",
    "    we use weighted average method to compute left and right lane slopes. In this method, lenghts of lines are multiplied \n",
    "    with corresponding slopes to compute the average slope. \n",
    "    \n",
    "    \"\"\"\n",
    "        \n",
    "    # calculate slopes,intercepts and length for all lines. \n",
    "    # Categorize the also categorize left and right line\n",
    "    left_slopes    = []\n",
    "    left_intercepts = []\n",
    "    left_lengths  = [] \n",
    "    \n",
    "    right_slopes    = []\n",
    "    right_intercepts = []\n",
    "    right_lengths  = [] \n",
    "        \n",
    "    for line in lines:\n",
    "        for x1, y1, x2, y2 in line:\n",
    "            if x2==x1:\n",
    "                continue # it is a vertical line\n",
    "            slope = (y2-y1)/(x2-x1)\n",
    "            intercept = y2 - slope*x2\n",
    "            length = np.sqrt((y2-y1)**2+(x2-x1)**2)\n",
    "            if slope < 0: # It is a left line\n",
    "                left_slopes.append((slope))\n",
    "                left_intercepts.append((intercept))\n",
    "                left_lengths.append((length))\n",
    "            else:\n",
    "                right_slopes.append((slope))\n",
    "                right_intercepts.append((intercept))\n",
    "                right_lengths.append((length))\n",
    "    \n",
    "    # compute weighted average     \n",
    "    left_wavg_slope  = np.dot(left_lengths,  left_slopes) /np.sum(left_lengths)\n",
    "    left_wavg_intercept  = np.dot(left_lengths,  left_intercepts) /np.sum(left_lengths)\n",
    "    right_wavg_slope  = np.dot(right_lengths,  right_slopes) /np.sum(right_lengths)\n",
    "    right_wavg_intercept  = np.dot(right_lengths,  right_intercepts) /np.sum(right_lengths)\n",
    "    \n",
    "    \n",
    "    return left_wavg_slope,left_wavg_intercept,right_wavg_slope,right_wavg_intercept\n",
    "\n",
    "\n",
    "\n",
    "def create_lane_lines(image, lines):\n",
    "    \n",
    "    # Get the average slope of left and right lane\n",
    "    left_slope,left_intercept,right_slope,right_intercept = calculate_wavg_slope_intercept(lines)\n",
    "    \n",
    "    # Choose the end points.\n",
    "    y1 = image.shape[0] # bottom of the image\n",
    "    y2 = int(y1*0.60)   # draw till 2/3 of the screen\n",
    "\n",
    "    left_x1 = int((y1 - left_intercept)/left_slope)\n",
    "    left_x2 = int((y2 - left_intercept)/left_slope)\n",
    "    \n",
    "    right_x1 = int((y1 - right_intercept)/right_slope)\n",
    "    right_x2 = int((y2 - right_intercept)/right_slope)\n",
    "        \n",
    "    return ((left_x1, y1), (left_x2, y2)), ((right_x1, y1), (right_x2, y2))\n",
    "\n",
    "    \n",
    "def draw_lanes(image, lines, color=[255, 0, 0], thickness=20):\n",
    "    \n",
    "    # make a copy of the image \n",
    "    line_image = np.zeros_like(image)\n",
    "    for line in lines:\n",
    "        if line is not None:\n",
    "            cv2.line(line_image, *line,  color, thickness)\n",
    "    \n",
    "    # Overlay the lanes on actual image.\n",
    "    # image1 * α + image2 * β + λ\n",
    "    return cv2.addWeighted(image, 1.0, line_image, 0.95, 0.0)\n"
   ]
  },
  {
   "cell_type": "markdown",
   "metadata": {},
   "source": [
    "# Part1:-  Run through all steps of Lane detection algorithm"
   ]
  },
  {
   "cell_type": "code",
   "execution_count": null,
   "metadata": {},
   "outputs": [],
   "source": [
    "# Verify all the steps using 'test_images/solidWhiteRight.jpg' as an example\n",
    "image = \"test_images/solidWhiteRight.jpg\"\n",
    "\n",
    "#read the input image into numpy array\n",
    "img = mpimg.imread(image)\n",
    "print('This image is:', type(img), 'with dimensions:', img.shape)\n",
    "plt.imshow(img)\n"
   ]
  },
  {
   "cell_type": "code",
   "execution_count": null,
   "metadata": {},
   "outputs": [],
   "source": [
    "#convert into gray scale image. In this algorithm, we are only interested in intesity of pixels\n",
    "gray = grayscale(img)\n",
    "\n",
    "# Display the image\n",
    "plt.imshow(gray, cmap='Greys_r')\n",
    "  "
   ]
  },
  {
   "cell_type": "code",
   "execution_count": null,
   "metadata": {},
   "outputs": [],
   "source": [
    "# Define a kernel size for Gaussian smoothing / blurring\n",
    "kernel_size = 5 # Must be an odd number (3, 5, 7...)\n",
    "blur_gray = gaussian_blur(gray,kernel_size)\n",
    "\n",
    "# Display the image\n",
    "plt.imshow(blur_gray, cmap='Greys_r')\n"
   ]
  },
  {
   "cell_type": "code",
   "execution_count": null,
   "metadata": {},
   "outputs": [],
   "source": [
    "# Define our parameters for Canny and run i\n",
    "low_threshold = 60\n",
    "high_threshold = 150\n",
    "edges = canny(blur_gray, low_threshold, high_threshold)\n",
    "\n",
    "# Display the image\n",
    "plt.imshow(edges, cmap='Greys_r')"
   ]
  },
  {
   "cell_type": "code",
   "execution_count": null,
   "metadata": {},
   "outputs": [],
   "source": [
    "# This time we are defining a four sided polygon to mask\n",
    "imshape = img.shape\n",
    "vertices = np.array([[(150,imshape[0]),(420,310), (490,310), (imshape[1],imshape[0])]], dtype=np.int32)\n",
    "masked_img = region_of_interest(edges, vertices)\n",
    "\n",
    "# Display the image\n",
    "plt.imshow(masked_img, cmap='Greys_r')"
   ]
  },
  {
   "cell_type": "code",
   "execution_count": null,
   "metadata": {
    "collapsed": true
   },
   "outputs": [],
   "source": [
    "# Define the Hough transform parameters\n",
    "# Make a blank the same size as our image to draw on\n",
    "rho = 2 # distance resolution in pixels of the Hough grid\n",
    "theta = np.pi/180 # angular resolution in radians of the Hough grid\n",
    "threshold = 10     # minimum number of votes (intersections in Hough grid cell)\n",
    "min_line_len = 40 #minimum number of pixels making up a line\n",
    "max_line_gap = 20    # maximum gap in pixels between connectable line segments\n",
    "\n",
    "#Call the hough transform routine.\n",
    "lines = cv2.HoughLinesP(masked_img, rho, theta, threshold, np.array([]), minLineLength=min_line_len, maxLineGap=max_line_gap)\n"
   ]
  },
  {
   "cell_type": "code",
   "execution_count": null,
   "metadata": {},
   "outputs": [],
   "source": [
    "#Interopolation algorithm for lane creation\n",
    "lanes = create_lane_lines(img, lines)\n",
    "print('This image is:', type(lanes), 'with dimensions:', lanes)"
   ]
  },
  {
   "cell_type": "code",
   "execution_count": null,
   "metadata": {},
   "outputs": [],
   "source": [
    "#plot the lanes on final image\n",
    "output_img = draw_lanes(img,lanes)\n",
    "\n",
    "#display the image\n",
    "plt.imshow(output_img)\n"
   ]
  },
  {
   "cell_type": "markdown",
   "metadata": {},
   "source": [
    "# Part2:-  Define the pipeline function and run it through all test images"
   ]
  },
  {
   "cell_type": "code",
   "execution_count": null,
   "metadata": {
    "collapsed": true
   },
   "outputs": [],
   "source": [
    "def pipeline(img,opath):\n",
    "    \n",
    "    gray = grayscale(img)\n",
    "    \n",
    "    # Define a kernel size for Gaussian smoothing / blurring\n",
    "    kernel_size = 5 # Must be an odd number (3, 5, 7...)\n",
    "    blur_gray = gaussian_blur(gray,kernel_size)\n",
    "\n",
    "    # Define our parameters for Canny and run it\n",
    "    low_threshold = 60\n",
    "    high_threshold = 150\n",
    "    edges = canny(blur_gray, low_threshold, high_threshold)\n",
    "\n",
    "    # This time we are defining a four sided polygon to mask\n",
    "    imshape = img.shape\n",
    "    vertices = np.array([[(150,imshape[0]),(420,310), (490,310), (imshape[1],imshape[0])]], dtype=np.int32)\n",
    "    masked_img = region_of_interest(edges, vertices)\n",
    "\n",
    "    # Define the Hough transform parameters\n",
    "    # Make a blank the same size as our image to draw on\n",
    "    rho = 2 # distance resolution in pixels of the Hough grid\n",
    "    theta = np.pi/180 # angular resolution in radians of the Hough grid\n",
    "    threshold = 10     # minimum number of votes (intersections in Hough grid cell)\n",
    "    min_line_len = 40 #minimum number of pixels making up a line\n",
    "    max_line_gap = 20    # maximum gap in pixels between connectable line segments\n",
    "\n",
    "    #Call the hough transform routine.\n",
    "    lines = cv2.HoughLinesP(masked_img, rho, theta, threshold, np.array([]), minLineLength=min_line_len, maxLineGap=max_line_gap)\n",
    "\n",
    "    # identify the left and right lanes using slope and generate lane endpoints using weighted averages\n",
    "    lanes = create_lane_lines(img, lines)\n",
    "\n",
    "    # plot the identified gradient lines\n",
    "    #line_img = np.zeros((masked_img.shape[0], masked_img.shape[1], 3), dtype=np.uint8)\n",
    "    #draw_lines(line_img, lines)\n",
    "\n",
    "    #plot the lanes on final image\n",
    "    output_img = draw_lanes(img,lanes)\n",
    "    #plt.imshow(output_img)\n",
    "        \n",
    "    #copy the result image into output folder\n",
    "    if opath is not None:\n",
    "        print ('The output path given is :', opath)\n",
    "        \n",
    "        #change the file format \n",
    "        outputfile = opath.replace(\".jpg\",\".png\")\n",
    "        plt.imsave(fname=outputfile,arr=output_img)\n",
    "    \n",
    "    #return the output image\n",
    "    return output_img       "
   ]
  },
  {
   "cell_type": "markdown",
   "metadata": {},
   "source": [
    "**Run the pipeline function on test images first. Once pipeline is confirmed to work, run this routine on test videos ** "
   ]
  },
  {
   "cell_type": "code",
   "execution_count": null,
   "metadata": {
    "scrolled": true
   },
   "outputs": [],
   "source": [
    "# iterate all the images through the pipeline routine\n",
    "for imgfile in os.listdir(\"test_images/\"):\n",
    "    \n",
    "    print ('processing image:',imgfile)\n",
    "    inputfile =  \"test_images/\"+imgfile\n",
    "    outputfile = \"test_images_output/\"+ imgfile    \n",
    "    pipeline(mpimg.imread(inputfile),outputfile)\n",
    "\n",
    "\n",
    "#img = mpimg.imread(\"test_images/solidYellowCurve.jpg\")\n",
    "#pipeline(img,\"test_images_output/solidYellowCurve.jpg\")\n",
    "\n"
   ]
  },
  {
   "cell_type": "markdown",
   "metadata": {},
   "source": [
    "# Part3:-  Run the lane detection function on test video inputs"
   ]
  },
  {
   "cell_type": "markdown",
   "metadata": {},
   "source": [
    "## Test on Videos\n",
    "We can test our solution on two provided videos:\n",
    "`solidWhiteRight.mp4`\n",
    "`solidYellowLeft.mp4`"
   ]
  },
  {
   "cell_type": "code",
   "execution_count": null,
   "metadata": {
    "collapsed": true
   },
   "outputs": [],
   "source": [
    "# Import everything needed to edit/save/watch video clips\n",
    "from moviepy.editor import VideoFileClip\n",
    "from IPython.display import HTML"
   ]
  },
  {
   "cell_type": "code",
   "execution_count": null,
   "metadata": {
    "collapsed": true
   },
   "outputs": [],
   "source": [
    "def process_image(img):\n",
    "    # NOTE: The output you return should be a color image (3 channel) for processing video below\n",
    "    # you should return the final output (image where lines are drawn on lanes)   \n",
    "   \n",
    "    result = pipeline(img,None)\n",
    "    return result"
   ]
  },
  {
   "cell_type": "markdown",
   "metadata": {},
   "source": [
    "Let's try the one with the solid white lane on the right first ..."
   ]
  },
  {
   "cell_type": "code",
   "execution_count": null,
   "metadata": {
    "scrolled": true
   },
   "outputs": [],
   "source": [
    "white_output = 'test_videos_output/solidWhiteRight.mp4'\n",
    "## To speed up the testing process you may want to try your pipeline on a shorter subclip of the video\n",
    "## To do so add .subclip(start_second,end_second) to the end of the line below\n",
    "## Where start_second and end_second are integer values representing the start and end of the subclip\n",
    "## You may also uncomment the following line for a subclip of the first 5 seconds\n",
    "## clip1 = VideoFileClip(\"test_videos/solidWhiteRight.mp4\").subclip(0,5)\n",
    "clip1 = VideoFileClip(\"test_videos/solidWhiteRight.mp4\")\n",
    "white_clip = clip1.fl_image(process_image) #NOTE: this function expects color images!!\n",
    "%time white_clip.write_videofile(white_output, audio=False)"
   ]
  },
  {
   "cell_type": "markdown",
   "metadata": {},
   "source": [
    "Play the video inline, or if you prefer find the video in your filesystem (should be in the same directory) and play it in your video player of choice."
   ]
  },
  {
   "cell_type": "code",
   "execution_count": null,
   "metadata": {},
   "outputs": [],
   "source": [
    "HTML(\"\"\"\n",
    "<video width=\"960\" height=\"540\" controls>\n",
    "  <source src=\"{0}\">\n",
    "</video>\n",
    "\"\"\".format(white_output))"
   ]
  },
  {
   "cell_type": "markdown",
   "metadata": {},
   "source": [
    "Now for the one with the solid yellow lane on the left. This one's more tricky!"
   ]
  },
  {
   "cell_type": "code",
   "execution_count": null,
   "metadata": {},
   "outputs": [],
   "source": [
    "yellow_output = 'test_videos_output/solidYellowLeft.mp4'\n",
    "## To speed up the testing process you may want to try your pipeline on a shorter subclip of the video\n",
    "## To do so add .subclip(start_second,end_second) to the end of the line below\n",
    "## Where start_second and end_second are integer values representing the start and end of the subclip\n",
    "## You may also uncomment the following line for a subclip of the first 5 seconds\n",
    "##clip2 = VideoFileClip('test_videos/solidYellowLeft.mp4').subclip(0,5)\n",
    "clip2 = VideoFileClip('test_videos/solidYellowLeft.mp4')\n",
    "yellow_clip = clip2.fl_image(process_image)\n",
    "%time yellow_clip.write_videofile(yellow_output, audio=False)"
   ]
  },
  {
   "cell_type": "code",
   "execution_count": null,
   "metadata": {},
   "outputs": [],
   "source": [
    "HTML(\"\"\"\n",
    "<video width=\"960\" height=\"540\" controls>\n",
    "  <source src=\"{0}\">\n",
    "</video>\n",
    "\"\"\".format(yellow_output))"
   ]
  },
  {
   "cell_type": "markdown",
   "metadata": {
    "collapsed": true
   },
   "source": [
    "## Optional Challenge\n",
    "\n",
    "Try your lane finding pipeline on the video below.  Does it still work?  Can you figure out a way to make it more robust?  If you're up for the challenge, modify your pipeline so it works with this video and submit it along with the rest of your project!"
   ]
  },
  {
   "cell_type": "code",
   "execution_count": null,
   "metadata": {
    "collapsed": true
   },
   "outputs": [],
   "source": [
    "challenge_output = 'test_videos_output/challenge.mp4'\n",
    "## To speed up the testing process you may want to try your pipeline on a shorter subclip of the video\n",
    "## To do so add .subclip(start_second,end_second) to the end of the line below\n",
    "## Where start_second and end_second are integer values representing the start and end of the subclip\n",
    "## You may also uncomment the following line for a subclip of the first 5 seconds\n",
    "##clip3 = VideoFileClip('test_videos/challenge.mp4').subclip(0,5)\n",
    "clip3 = VideoFileClip('test_videos/challenge.mp4')\n",
    "challenge_clip = clip3.fl_image(process_image)\n",
    "%time challenge_clip.write_videofile(challenge_output, audio=False)"
   ]
  },
  {
   "cell_type": "code",
   "execution_count": null,
   "metadata": {
    "collapsed": true
   },
   "outputs": [],
   "source": [
    "HTML(\"\"\"\n",
    "<video width=\"960\" height=\"540\" controls>\n",
    "  <source src=\"{0}\">\n",
    "</video>\n",
    "\"\"\".format(challenge_output))"
   ]
  }
 ],
 "metadata": {
  "anaconda-cloud": {},
  "kernelspec": {
   "display_name": "Python 3",
   "language": "python",
   "name": "python3"
  },
  "language_info": {
   "codemirror_mode": {
    "name": "ipython",
    "version": 3
   },
   "file_extension": ".py",
   "mimetype": "text/x-python",
   "name": "python",
   "nbconvert_exporter": "python",
   "pygments_lexer": "ipython3",
   "version": "3.6.1"
  },
  "widgets": {
   "state": {},
   "version": "1.1.2"
  }
 },
 "nbformat": 4,
 "nbformat_minor": 1
}
